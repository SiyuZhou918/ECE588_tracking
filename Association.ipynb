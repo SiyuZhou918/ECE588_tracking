{
 "cells": [
  {
   "cell_type": "code",
   "execution_count": null,
   "id": "d8318cc0-4827-402b-ac47-19914fc2bdaf",
   "metadata": {
    "pycharm": {
     "name": "#%%\n"
    }
   },
   "outputs": [],
   "source": [
    "# Import Required Packages\n",
    "import os\n",
    "import re\n",
    "from glob import glob\n",
    "import cv2\n",
    "import torch\n",
    "import numpy as np\n",
    "from yolox.data.data_augment import ValTransform\n",
    "from yolox.data.datasets import COCO_CLASSES\n",
    "from yolox.exp import get_exp\n",
    "from yolox.utils import  postprocess\n",
    "import matplotlib.pyplot as plt\n",
    "from filterpy.kalman import KalmanFilter\n",
    "from filterpy.common import Q_discrete_white_noise\n",
    "from scipy.optimize import linear_sum_assignment"
   ]
  },
  {
   "cell_type": "code",
   "execution_count": null,
   "id": "99797319-90ce-4500-aa2a-eb945d53fd53",
   "metadata": {
    "pycharm": {
     "name": "#%%\n"
    }
   },
   "outputs": [],
   "source": [
    "# Read Input Frames\n",
    "input_video = \"input_frames/palace.mp4\"\n",
    "frames_dir = \"input_frames/\""
   ]
  },
  {
   "cell_type": "code",
   "execution_count": null,
   "id": "44704f6b-ab6f-4420-b516-b19b080c4f0a",
   "metadata": {
    "pycharm": {
     "name": "#%%\n"
    }
   },
   "outputs": [],
   "source": [
    "# # Generate Input Frames\n",
    "# if not os.path.exists(frames_dir):\n",
    "#     os.mkdir(frames_dir)\n",
    "# video = cv2.VideoCapture(input_video)\n",
    "# frame_count = 0\n",
    "# while True:\n",
    "#     ret, frame = video.read()\n",
    "#     if not ret:\n",
    "#         break\n",
    "#     filename = re.search(r\"(\\w*).mp4\",input_video).group(1) + \"_\" + str(frame_count).zfill(3) + \".jpg\"\n",
    "#     cv2.imwrite(os.path.join(frames_dir, filename), frame)\n",
    "#     frame_count += 1\n",
    "# video.release()\n",
    "# cv2.destroyAllWindows()"
   ]
  },
  {
   "cell_type": "code",
   "execution_count": null,
   "id": "717bc870-01a1-4aeb-a2ac-b2c0516b6913",
   "metadata": {
    "pycharm": {
     "name": "#%%\n"
    }
   },
   "outputs": [],
   "source": [
    "# Detection Functions\n",
    "def init_detector(testing=False):\n",
    "    exp = get_exp(None, 'yolox-nano')\n",
    "    if testing:\n",
    "        exp.test_conf = 0.35\n",
    "    model = exp.get_model()\n",
    "    model.eval()\n",
    "    ckpt = torch.load('yolox_nano.pth', map_location=\"cpu\")\n",
    "    model.load_state_dict(ckpt[\"model\"])\n",
    "    return model, exp\n",
    "\n",
    "def detect(model, exp, img_path):\n",
    "    img = cv2.imread(img_path)\n",
    "    ratio = min(exp.test_size[0] / img.shape[0], exp.test_size[1] / img.shape[1])\n",
    "    pre_proc = ValTransform(legacy=False)\n",
    "    img,_ = pre_proc(img, None, exp.test_size)\n",
    "    img = torch.from_numpy(img).unsqueeze(0)\n",
    "    img = img.float()\n",
    "    with torch.no_grad():\n",
    "        outputs = model(img)\n",
    "    outputs = postprocess(outputs, exp.num_classes, exp.test_conf, exp.nmsthre, class_agnostic=True)\n",
    "    outputs = (outputs[0]).cpu()\n",
    "    bboxes = outputs[:, 0:4]\n",
    "    bboxes /= ratio # resize\n",
    "    scores = outputs[:, 4] * outputs[:, 5]\n",
    "    return bboxes, scores\n",
    "\n",
    "def display(img_path, bboxes, scores=None):\n",
    "    if scores != None:\n",
    "        assert(len(bboxes) == len(scores))\n",
    "    n = len(bboxes)\n",
    "    colors = cmap = plt.get_cmap('tab20', n)\n",
    "    img = plt.imread(img_path)\n",
    "    for i in range(n):\n",
    "        bb = bboxes[i]\n",
    "        score = str(scores[i].item())[:4]\n",
    "        color = colors(i)\n",
    "        rect = plt.Rectangle((int(bb[0]),int(bb[1])),int(np.abs(bb[2]-bb[0])),int(np.abs(bb[3]-bb[1])), fill=False, edgecolor=color, linewidth=2)\n",
    "        plt.gca().add_patch(rect)\n",
    "        if scores != None:\n",
    "            plt.text(int(bb[0]),int(bb[1])+50, score, color=color, fontsize=12)\n",
    "    plt.imshow(img, origin='upper', interpolation='nearest')\n",
    "    plt.axis('off')\n",
    "    plt.show()\n",
    "    plt.close()"
   ]
  },
  {
   "cell_type": "code",
   "execution_count": null,
   "id": "eb290a9c-3fb6-4161-bbbe-8c7f58e88936",
   "metadata": {
    "pycharm": {
     "name": "#%%\n"
    }
   },
   "outputs": [],
   "source": [
    "# Test Detection Functions\n",
    "model,exp = init_detector(testing=True)\n",
    "for img_path in sorted(glob(frames_dir+'*.jpg')):\n",
    "    # predict detection boxes and scores\n",
    "    bboxes, scores = detect(model, exp, img_path)\n",
    "    display(img_path, bboxes, scores)\n",
    "    break"
   ]
  },
  {
   "cell_type": "code",
   "execution_count": null,
   "id": "2be5df63-0f81-4178-883a-9e54692df174",
   "metadata": {
    "pycharm": {
     "name": "#%%\n"
    }
   },
   "outputs": [],
   "source": [
    "# Track and Kalman Filter Functions\n",
    "\n",
    "# Track Class keeps track of an object over time.\n",
    "# Includes lists for frames and bounding boxes and a kalman filter\n",
    "# References: * https://www.thinkautonomous.ai/blog/computer-vision-for-tracking/\n",
    "#             * https://github.com/andrewadare/kalman-tracker\n",
    "#             * https://filterpy.readthedocs.io/en/latest/kalman/KalmanFilter.html\n",
    "class Track:\n",
    "    def __init__(self, frame, bbox, testing=False):\n",
    "        self.testing = testing\n",
    "        self.frames = [frame]\n",
    "        self.bboxes = [bbox]\n",
    "        self.kf = KalmanFilter(dim_x=8, dim_z=4) # Define the Kalman Filter for this track\n",
    "        # Get the center of bounding box\n",
    "        cx = (bbox[0] + bbox[2])/2\n",
    "        cy = (bbox[1] + bbox[3])/2\n",
    "        # Get the width and height\n",
    "        w = np.abs(bbox[0] - bbox[2])\n",
    "        h = np.abs(bbox[1] - bbox[3])\n",
    "        # Define the state vector x = [cx cy w h vx vy vw vh]\n",
    "        x = [cx, cy, w, h, 0, 0, 0, 0]\n",
    "        self.kf.x = np.array(x)\n",
    "        if self.testing:\n",
    "            print('x:\\n\\t', self.kf.x)\n",
    "        # Define the uncertainty matrix P (use arbritrary large number to be changed over time)\n",
    "        self.kf.P *= 100\n",
    "        if self.testing:\n",
    "            print('P:')\n",
    "            for i in range(len(self.kf.P)):\n",
    "                print('\\t', self.kf.P[i])\n",
    "        # Define state transition matrix F using constant velocity model\n",
    "        dt = 1 # time step\n",
    "        self.kf.F = np.eye(self.kf.dim_x)\n",
    "        self.kf.F[0, 4] = self.kf.F[1, 5] = self.kf.F[2, 6] = self.kf.F[3, 7]= dt\n",
    "        if self.testing:\n",
    "            print('F:')\n",
    "            for i in range(len(self.kf.F)):\n",
    "                print('\\t', self.kf.F[i])\n",
    "        # Define process noise matrix Q (initialize with 0.01 to be changed over time)\n",
    "        self.kf.Q = Q_discrete_white_noise(dim=2, dt=dt, var=0.1, block_size=4)\n",
    "        if self.testing:\n",
    "            print('Q:')\n",
    "            for i in range(len(self.kf.Q)):\n",
    "                print('\\t', self.kf.Q[i])\n",
    "        # Define measurement function H\n",
    "        self.kf.H = np.zeros([self.kf.dim_z, self.kf.dim_x])\n",
    "        self.kf.H[0, 0] = self.kf.H[1, 1] = self.kf.H[2, 2] = self.kf.H[3, 3] = 1\n",
    "        if self.testing:\n",
    "            print('H:')\n",
    "            for i in range(len(self.kf.H)):\n",
    "                print('\\t', self.kf.H[i])\n",
    "        # Define measurement noise R (1.5 for cx and cy, 10 for w and h)\n",
    "        self.kf.R = np.eye(self.kf.dim_z)\n",
    "        std_center = 1.5\n",
    "        std_dim = 10\n",
    "        self.kf.R[0,0] = self.kf.R[1,1] = std_center\n",
    "        self.kf.R[2,2] = self.kf.R[3,3] = std_dim\n",
    "        if self.testing:\n",
    "            print('R:')\n",
    "            for i in range(len(self.kf.R)):\n",
    "                print('\\t', self.kf.R[i])\n",
    "\n",
    "    def predict(self):\n",
    "        if self.testing:\n",
    "            print('x before predict:',self.kf.x)\n",
    "        self.kf.predict()\n",
    "        if self.testing:\n",
    "            print('x after predict:',self.kf.x)\n",
    "\n",
    "    def update(self, frame, bbox):\n",
    "        self.frames.append(frame)\n",
    "        self.bboxes.append(bbox)\n",
    "        # Get the center of bounding box\n",
    "        cx = (bbox[0] + bbox[2])/2\n",
    "        cy = (bbox[1] + bbox[3])/2\n",
    "        # Get the width and height\n",
    "        w = np.abs(bbox[0] - bbox[2])\n",
    "        h = np.abs(bbox[1] - bbox[3])\n",
    "        if self.testing:\n",
    "            print('x before update:',self.kf.x)\n",
    "        self.kf.update((cx,cy,w,h))\n",
    "        if self.testing:\n",
    "            print('x after update:',self.kf.x)    "
   ]
  },
  {
   "cell_type": "code",
   "execution_count": null,
   "id": "e5dc467c-855f-4c80-ad32-d355fae76d93",
   "metadata": {
    "pycharm": {
     "name": "#%%\n"
    }
   },
   "outputs": [],
   "source": [
    "# Test Track and Kalman Filter Functions\n",
    "t = Track(0, (0,2,5,10), testing=True)\n",
    "print()\n",
    "t.predict()\n",
    "t.update(1,(1,1,6,10))"
   ]
  },
  {
   "cell_type": "code",
   "execution_count": null,
   "id": "34bd1f29-5c89-4ed7-8af0-5db06ea7394e",
   "metadata": {
    "pycharm": {
     "name": "#%%\n"
    }
   },
   "outputs": [],
   "source": [
    "# Association Functions\n",
    "def IOU(bbox1, bbox2): # bbox1: A list of four numbers [x1, y1, x2, y2] representing the bounding box\n",
    "    assert bbox1[0] < bbox1[2]\n",
    "    assert bbox1[1] < bbox1[3]\n",
    "    assert bbox2[0] < bbox2[2]\n",
    "    assert bbox2[1] < bbox2[3]\n",
    "    x1 = max(bbox1[0], bbox2[0])\n",
    "    y1 = max(bbox1[1], bbox2[1])\n",
    "    x2 = min(bbox1[2], bbox2[2])\n",
    "    y2 = min(bbox1[3], bbox2[3])\n",
    "    if x1 > x2 or y1 > y2:\n",
    "        return 0\n",
    "    intersection_area = (x2 - x1) * (y2 - y1)\n",
    "    union_area =  (bbox1[2] - bbox1[0])*(bbox1[3] - bbox1[1]) + (bbox2[2] - bbox2[0])*(bbox2[3] - bbox2[1]) - intersection_area\n",
    "    return intersection_area / union_area\n",
    "\n",
    "def gen_cost_matrix(tracks, detections):\n",
    "    # generate cost matrix with tracks as rows and detections as columns\n",
    "    num = max(len(tracks), len(detections)) \n",
    "    cost_matrix = np.zeros((num,num))\n",
    "    for i in range(num):\n",
    "        if i < len(tracks):\n",
    "            t = tracks[i]\n",
    "            for j in range(num):\n",
    "                if j < len(detections):\n",
    "                    det = detections[j]\n",
    "                    cost_matrix[i][j] = IOU(t, det)\n",
    "    return cost_matrix\n",
    "\n",
    "def associate(tracks, detections, rejection_threshold): # Needs work\n",
    "    cost_matrix = gen_cost_matrix(tracks, detections)\n",
    "    association = linear_sum_assignment(cost_matrix,maximize=True)\n",
    "    tracks_remain = []\n",
    "    detections_remain = []\n",
    "    for i in range(len(association[0])):\n",
    "        track_ind = association[0][i]\n",
    "        detection_ind = association[1][i]\n",
    "        if cost_matrix[track_ind][detection_ind] < 0.2\n",
    "        if track_ind < len(tracks) and detection_ind < len(detections):\n",
    "            if cost_matrix[track_ind][detection_ind] < 0.2:\n",
    "                tracks_remain.append(tracks[track_ind])\n",
    "                detections_remain.append(detections[detection_ind])\n",
    "                continue\n",
    "    return (tracks_remain, detections_remain)"
   ]
  },
  {
   "cell_type": "code",
   "execution_count": null,
   "id": "a3d3e764-f244-49e8-8749-8bff6dc0c7ad",
   "metadata": {
    "pycharm": {
     "name": "#%%\n"
    }
   },
   "outputs": [],
   "source": [
    "# Test Association Functions\n",
    "# IOU tests\n",
    "assert(IOU([1,1,3,5],[1,1,3,5]) == 1)\n",
    "assert(IOU([0,2,4,8],[2,5,4,8]) == 0.25)\n",
    "assert(IOU([0,2,4,8],[2,5,3,7]) == 2/24)\n",
    "assert(IOU([0,2,4,8],[2,5,6,10]) == 6/38)\n",
    "model,exp = init_detector(testing=True)\n",
    "for img_path in sorted(glob(frames_dir+'*.jpg')):\n",
    "    bboxes, scores = detect(model, exp, img_path)\n",
    "    i1 = 3\n",
    "    i2 = 5\n",
    "    display(img_path, [bboxes[i1]]+[bboxes[i2]], [scores[i1]]+[scores[i2]])\n",
    "    print('IOU:',IOU(bboxes[i1], bboxes[i2]).item())\n",
    "    break\n",
    "# Cost Matrix tests\n",
    "tracks = [\n",
    "    [0,0,10,10],\n",
    "    [1,1,5,5],\n",
    "    [9,5,23,6],\n",
    "]\n",
    "detections = [\n",
    "    [1,1,5,5],\n",
    "    [9,5,23,8],\n",
    "]\n",
    "cm = gen_cost_matrix(tracks, detections)\n",
    "print('Cost Matrix:\\n',cm)\n",
    "ha = linear_sum_assignment(cm,maximize=True)\n",
    "print('Hungarian Algorithm:\\n',ha)\n",
    "t_remain, det_remain = associate(tracks, detections, 0.3)\n",
    "print(t_remain)\n",
    "print(det_remain)"
   ]
  },
  {
   "cell_type": "code",
   "execution_count": null,
   "id": "27348eba-19a6-4b0a-8250-90ec980a2d9c",
   "metadata": {
    "pycharm": {
     "name": "#%%\n"
    }
   },
   "outputs": [],
   "source": [
    "# Track_List to hold all the tracks\n",
    "class Track_List:\n",
    "    def __init__(self, testing=False):\n",
    "        self.curr_ind = 0\n",
    "        self.track_list = []\n",
    "    def addTrack(self, frame, bbox):\n",
    "        self.track_list[self.curr_id] = Track(frame, bbox)\n",
    "        self.curr_ind += 1\n",
    "    def predictAll(self):\n",
    "        for track in self.track_list:\n",
    "            track.predict()\n",
    "        bboxes = []\n",
    "        for track in self.track_list:\n",
    "            x = track.kf.x\n",
    "            cx = x[0]\n",
    "            cy = x[1]\n",
    "            w = x[2]\n",
    "            h = x[3]\n",
    "            bboxes.append([cx-w/2, cy-h/2, cx+w/2, cy+h/2])\n",
    "        return bboxes\n",
    "    def updateTrack(track_ind, frame, bbox):\n",
    "        self.track_list[track_ind].update(frame, bbox)"
   ]
  },
  {
   "cell_type": "code",
   "execution_count": null,
   "id": "9bcc01ad-9caf-4958-93eb-0e225ce560fd",
   "metadata": {
    "pycharm": {
     "name": "#%%\n"
    }
   },
   "outputs": [],
   "source": [
    "# Test Track_List Functions"
   ]
  },
  {
   "cell_type": "code",
   "execution_count": null,
   "id": "c2dd49bc-ecda-41e7-a3da-fdb74a5fdfb7",
   "metadata": {
    "pycharm": {
     "name": "#%%\n"
    }
   },
   "outputs": [],
   "source": [
    "# BYTE Association Algorithm\n",
    "model,exp = init_detector()\n",
    "detection_threshold = 0.6 # Detection score threshold for high vs low\n",
    "rejection_threshold = 0.2 # Reject associations if the IOU is less than this\n",
    "\n",
    "tracks = Track_List()\n",
    "frame_num = 0\n",
    "for img_path in sorted(glob(frames_dir+'*.jpg')):\n",
    "    # predict detection boxes and scores\n",
    "    bboxes, scores = detect(model, exp, img_path)\n",
    "    det_high = []\n",
    "    det_low = []\n",
    "    for i in range(len(bboxes)):\n",
    "        bbox = bboxes[i].tolist()\n",
    "        score = scores[i].item()\n",
    "        if score > detection_threshold:\n",
    "            det_high.append((bbox,score))\n",
    "        else:\n",
    "            det_low.append((bbox,score))\n",
    "        \n",
    "    # predict new locations of tracks\n",
    "    track_bboxes = tracks.predictAll()\n",
    "    \n",
    "    # first association\n",
    "    tracks_remain, det_remain = associate(track_bboxes, det_high, rejection_threshold)\n",
    "    # TODO update kalman filter for associated track,detection pairs\n",
    "    \n",
    "    # second association\n",
    "    tracks_re_remain,_ = associate(tracks_remain, det_low, rejection_threshold)\n",
    "    # TODO update kalman filter for associated track,detection pairs\n",
    "    \n",
    "    # initialize new tracks\n",
    "    for det in det_remain:\n",
    "        tracks.addTrack(frame_num, det)\n",
    "    frame_num += 1\n",
    "    break"
   ]
  },
  {
   "cell_type": "code",
   "execution_count": null,
   "id": "259245ce-b43e-4517-960a-51441020d0fd",
   "metadata": {
    "pycharm": {
     "name": "#%%\n"
    }
   },
   "outputs": [],
   "source": []
  }
 ],
 "metadata": {
  "kernelspec": {
   "display_name": "Python 3 (ipykernel)",
   "language": "python",
   "name": "python3"
  },
  "language_info": {
   "codemirror_mode": {
    "name": "ipython",
    "version": 3
   },
   "file_extension": ".py",
   "mimetype": "text/x-python",
   "name": "python",
   "nbconvert_exporter": "python",
   "pygments_lexer": "ipython3",
   "version": "3.10.12"
  }
 },
 "nbformat": 4,
 "nbformat_minor": 5
}